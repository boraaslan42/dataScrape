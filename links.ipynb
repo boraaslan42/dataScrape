{
 "cells": [
  {
   "cell_type": "code",
   "execution_count": 25,
   "metadata": {},
   "outputs": [
    {
     "name": "stdout",
     "output_type": "stream",
     "text": [
      "<div class=\"egMi0 kCrYT\"><a data-ved=\"2ahUKEwjDu5rmroCAAxW8iv0HHZQ2Aj0QtwJ6BAgIEAE\" href=\"/url?q=https://www.youtube.com/watch%3Fv%3Doy3QynkPlbw&amp;sa=U&amp;ved=2ahUKEwjDu5rmroCAAxW8iv0HHZQ2Aj0QtwJ6BAgIEAE&amp;usg=AOvVaw0WuT_POm86FDFl6ookRVgy\" jsname=\"ACyKwe\"><div class=\"DnJfK\"><div class=\"j039Wc\"><h3 class=\"zBAuLc l97dzf\"><div class=\"BNeawe vvjwJb AP7Wnd\">Best Tesla Model Y &amp; 3 Accessories for 2022 - YouTube</div></h3></div><div class=\"sCuL3\"><div class=\"BNeawe UPmit AP7Wnd lRVwie\">www.youtube.com › watch</div></div></div></a></div>\n",
      "1\n",
      "<a data-ved=\"2ahUKEwjDu5rmroCAAxW8iv0HHZQ2Aj0QtwJ6BAgIEAE\" href=\"/url?q=https://www.youtube.com/watch%3Fv%3Doy3QynkPlbw&amp;sa=U&amp;ved=2ahUKEwjDu5rmroCAAxW8iv0HHZQ2Aj0QtwJ6BAgIEAE&amp;usg=AOvVaw0WuT_POm86FDFl6ookRVgy\" jsname=\"ACyKwe\"><div class=\"DnJfK\"><div class=\"j039Wc\"><h3 class=\"zBAuLc l97dzf\"><div class=\"BNeawe vvjwJb AP7Wnd\">Best Tesla Model Y &amp; 3 Accessories for 2022 - YouTube</div></h3></div><div class=\"sCuL3\"><div class=\"BNeawe UPmit AP7Wnd lRVwie\">www.youtube.com › watch</div></div></div></a>\n",
      "\n"
     ]
    },
    {
     "data": {
      "text/plain": [
       "'for i in range(10):\\n    print_youtube(str(i*10))'"
      ]
     },
     "execution_count": 25,
     "metadata": {},
     "output_type": "execute_result"
    }
   ],
   "source": [
    "import requests\n",
    "from bs4 import BeautifulSoup\n",
    "def print_youtube(start):\n",
    "    r=requests.get(\"https://www.google.com/search?q=Tesla+Model+3+accessories+youtube&client=opera-gx&hs=b5L&tbm=vid&sxsrf=AB5stBiskZyBSa-_sSTzjO4SfLaXKiBX2g:1688860804954&ei=hPipZPXwOfySxc8P16eUOA&start=\"+start+\"&sa=N&ved=2ahUKEwj1wuriqICAAxV8SfEDHdcTBQc4ChDy0wN6BAgPEAc&biw=1707&bih=804&dpr=1.13\")\n",
    "    r.status_code\n",
    "    soup=BeautifulSoup(r.text,'html.parser')\n",
    "    #print(soup.prettify())\n",
    "    a=soup.find(\"div\",{\"class\":\"egMi0 kCrYT\"})\n",
    "    #print(a)\n",
    "    print(a)\n",
    "    print(len(a))\n",
    "    for i in a:\n",
    "        print(i)\n",
    "        print()\n",
    "        \n",
    "print_youtube(\"0\")\n",
    "\"\"\"for i in range(10):\n",
    "    print_youtube(str(i*10))\"\"\"\n",
    "#https://www.google.com/search?q=Tesla+Model+3+accessories+youtube&client=opera-gx&hs=b5L&tbm=vid&sxsrf=AB5stBiskZyBSa-_sSTzjO4SfLaXKiBX2g:1688860804954&ei=hPipZPXwOfySxc8P16eUOA&start=20&sa=N&ved=2ahUKEwj1wuriqICAAxV8SfEDHdcTBQc4ChDy0wN6BAgPEAc&biw=1707&bih=804&dpr=1.13"
   ]
  }
 ],
 "metadata": {
  "kernelspec": {
   "display_name": "Python 3",
   "language": "python",
   "name": "python3"
  },
  "language_info": {
   "codemirror_mode": {
    "name": "ipython",
    "version": 3
   },
   "file_extension": ".py",
   "mimetype": "text/x-python",
   "name": "python",
   "nbconvert_exporter": "python",
   "pygments_lexer": "ipython3",
   "version": "3.10.11"
  },
  "orig_nbformat": 4
 },
 "nbformat": 4,
 "nbformat_minor": 2
}
