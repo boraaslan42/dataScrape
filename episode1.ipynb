{
 "cells": [
  {
   "cell_type": "code",
   "execution_count": 85,
   "id": "50f07813",
   "metadata": {},
   "outputs": [],
   "source": [
    "import requests\n",
    "from bs4 import BeautifulSoup"
   ]
  },
  {
   "cell_type": "code",
   "execution_count": 90,
   "id": "a44738eb",
   "metadata": {},
   "outputs": [],
   "source": [
    "def get_clinic_name(clinic_no):\n",
    "    \n",
    "    url = \"https://\"+str(clinic_no)+\".portal.athenahealth.com/\"\n",
    "    response = requests.get(url)\n",
    "    if response.status_code != 200:\n",
    "        return \"Clinic not found\"\n",
    "    html = response.text\n",
    "    soup = BeautifulSoup(html, \"html.parser\")\n",
    "    clinic_info = soup.find_all(\"h1\")[-1].text.strip()\n",
    "    if clinic_info ==\"Payment Confirmation\" or clinic_info==\"\":\n",
    "        clinic_info=\"Clinic not found\"\n",
    "    return clinic_info\n"
   ]
  },
  {
   "cell_type": "code",
   "execution_count": 91,
   "id": "54de9356",
   "metadata": {
    "scrolled": true
   },
   "outputs": [
    {
     "name": "stdout",
     "output_type": "stream",
     "text": [
      "12690 Clinic not found\n",
      "12691 Ergomedica\n",
      "12692 Clinic not found\n",
      "12693 Altamonte Family Practice\n",
      "12694 Open Health Care Clinic\n",
      "12695 Dr. Richard Handelsman\n",
      "12696 Women's CenterforIntegrative Health\n",
      "12697 Eastern Urological Associates\n",
      "12698 Clinic not found\n",
      "12699 Clinic not found\n",
      "12700 Clinic not found\n",
      "12701 Clinic not found\n",
      "12702 Chand Rohatgi MD\n",
      "12703 Clinic not found\n",
      "12704 Volunteer Healthcare Clinic\n",
      "12705 Christ Clinic\n",
      "12706 Olga Joukovski, MD, PA\n",
      "12707 Restore Health Clinic\n",
      "12708 STUART L. SILVERMAN, M.D., A MEDICAL CORPORATION\n",
      "12709 George E. Weems Clinics\n",
      "12710 Clinic not found\n"
     ]
    }
   ],
   "source": [
    "start=12690\n",
    "end=12710  \n",
    "for i in range(start,end+1):\n",
    "    print(str(i)+\" \"+get_clinic_name(i))"
   ]
  }
 ],
 "metadata": {
  "kernelspec": {
   "display_name": "Python 3 (ipykernel)",
   "language": "python",
   "name": "python3"
  },
  "language_info": {
   "codemirror_mode": {
    "name": "ipython",
    "version": 3
   },
   "file_extension": ".py",
   "mimetype": "text/x-python",
   "name": "python",
   "nbconvert_exporter": "python",
   "pygments_lexer": "ipython3",
   "version": "3.10.11"
  }
 },
 "nbformat": 4,
 "nbformat_minor": 5
}
