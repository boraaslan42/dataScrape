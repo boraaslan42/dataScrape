{
 "cells": [
  {
   "cell_type": "code",
   "execution_count": 1,
   "metadata": {},
   "outputs": [],
   "source": [
    "from selenium import webdriver\n",
    "import time\n",
    "from bs4 import BeautifulSoup\n",
    "from selenium import webdriver\n",
    "from selenium.webdriver.chrome.options import Options\n",
    "from selenium.webdriver.chrome.service import Service\n",
    "from selenium_stealth import stealth\n",
    "\n",
    "\n",
    "options = Options()\n",
    "options.add_argument(\"start-maximized\")\n",
    "\n",
    "options.add_experimental_option(\"excludeSwitches\", [\"enable-automation\"])\n",
    "options.add_experimental_option('useAutomationExtension', False)\n",
    "s = Service('C:\\\\BrowserDrivers\\\\chromedriver.exe')\n",
    "driver = webdriver.Chrome(service=s, options=options)\n",
    "\n",
    "stealth(driver,\n",
    "        languages=[\"en-US\", \"en\"],\n",
    "        vendor=\"Google Inc.\",\n",
    "        platform=\"Win32\",\n",
    "        webgl_vendor=\"Intel Inc.\",\n",
    "        renderer=\"Intel Iris OpenGL Engine\",\n",
    "        fix_hairline=True,\n",
    "        )"
   ]
  },
  {
   "cell_type": "code",
   "execution_count": 5,
   "metadata": {},
   "outputs": [
    {
     "name": "stdout",
     "output_type": "stream",
     "text": [
      "Your query finished succesfully here is the data: \n",
      "{'Certification Number': '46054812', 'Label Type': 'with fugitive ink technology', 'Reverse Cert Number/Barcode': 'Yes', 'Year': '2019', 'Brand': \"BOWMAN'S BEST 1999 FRANCHISE FAVORITES AUTOGRAPHS\", 'Sport': 'BASEBALL CARDS', 'Card Number': 'NG', 'Player': 'NOLAN GORMAN', 'Variety/Pedigree': \"'99 FRANCHISE FAV.AUTO.\", 'Grade': 'GEM MT 10'}\n",
      "---------------------------------------------------\n",
      "Your query finished succesfully here is the data: \n",
      "{'Certification Number': '46054813', 'Label Type': 'with fugitive ink technology', 'Reverse Cert Number/Barcode': 'Yes', 'Year': '2019', 'Brand': 'TOPPS CHROME ROOKIE AUTOGRAPHS', 'Sport': 'BASEBALL CARDS', 'Card Number': 'RA-KH', 'Player': 'KESTON HIURA', 'Variety/Pedigree': 'ROOKIE AUTOGRAPHS', 'Grade': 'GEM MT 10', 'PSA Price Guide Value': '$25'}\n"
     ]
    }
   ],
   "source": [
    "def get_data(cert_no):\n",
    "    driver.get(\"https://www.psacard.com/cert/\"+str(cert_no))\n",
    "    time.sleep(2)\n",
    "\n",
    "    soup = BeautifulSoup(driver.page_source, 'html.parser')\n",
    "\n",
    "    dataTable = soup.find(\n",
    "        'table', class_='table table-fixed table-header-right text-medium')\n",
    "\n",
    "    dataList = dataTable.find_all('tr')\n",
    "\n",
    "    print(\"Your query finished succesfully here is the data: \")\n",
    "    data_dict = {}\n",
    "\n",
    "    for i in dataList:\n",
    "        data_dict[i.find('th').text] = i.find('td').text.strip()\n",
    "    print(data_dict)\n",
    "\n",
    "\n",
    "get_data(46054812)\n",
    "print(\"---------------------------------------------------\")\n",
    "get_data(46054813)\n"
   ]
  },
  {
   "cell_type": "code",
   "execution_count": 14,
   "metadata": {},
   "outputs": [
    {
     "name": "stdout",
     "output_type": "stream",
     "text": [
      "11111111111111111111111111111111111111111111111111111111111111111111111111111111111111111111111111111111111111111111111111111111"
     ]
    }
   ],
   "source": [
    "for i in range(1,129):\n",
    "    print(1,end=\"\")"
   ]
  },
  {
   "cell_type": "code",
   "execution_count": null,
   "metadata": {},
   "outputs": [],
   "source": []
  }
 ],
 "metadata": {
  "kernelspec": {
   "display_name": "Python 3 (ipykernel)",
   "language": "python",
   "name": "python3"
  },
  "language_info": {
   "codemirror_mode": {
    "name": "ipython",
    "version": 3
   },
   "file_extension": ".py",
   "mimetype": "text/x-python",
   "name": "python",
   "nbconvert_exporter": "python",
   "pygments_lexer": "ipython3",
   "version": "3.10.11"
  }
 },
 "nbformat": 4,
 "nbformat_minor": 2
}
